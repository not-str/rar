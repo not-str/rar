{
 "cells": [
  {
   "cell_type": "code",
   "execution_count": 1,
   "id": "3a3e0bb5-1f53-415e-9aff-94a45a0db27d",
   "metadata": {},
   "outputs": [
    {
     "ename": "ModuleNotFoundError",
     "evalue": "No module named 'pynput'",
     "output_type": "error",
     "traceback": [
      "\u001b[1;31m---------------------------------------------------------------------------\u001b[0m",
      "\u001b[1;31mModuleNotFoundError\u001b[0m                       Traceback (most recent call last)",
      "Cell \u001b[1;32mIn[1], line 1\u001b[0m\n\u001b[1;32m----> 1\u001b[0m \u001b[38;5;28;01mfrom\u001b[39;00m \u001b[38;5;21;01mpynput\u001b[39;00m\u001b[38;5;21;01m.\u001b[39;00m\u001b[38;5;21;01mkeyboard\u001b[39;00m \u001b[38;5;28;01mimport\u001b[39;00m Key,Listener\n",
      "\u001b[1;31mModuleNotFoundError\u001b[0m: No module named 'pynput'"
     ]
    }
   ],
   "source": [
    "from pynput.keyboard import Key,Listener\n"
   ]
  },
  {
   "cell_type": "code",
   "execution_count": null,
   "id": "3d745914-8004-4137-a6f6-91fc69d69989",
   "metadata": {},
   "outputs": [],
   "source": []
  },
  {
   "cell_type": "code",
   "execution_count": null,
   "id": "c724b463-34a6-4c60-8fe2-7bad09cfa42d",
   "metadata": {},
   "outputs": [],
   "source": []
  },
  {
   "cell_type": "code",
   "execution_count": 2,
   "id": "77db3632-dce7-41ce-875c-f655520f950e",
   "metadata": {},
   "outputs": [
    {
     "name": "stdout",
     "output_type": "stream",
     "text": [
      "Collecting pynput\n",
      "  Downloading pynput-1.8.1-py2.py3-none-any.whl.metadata (32 kB)\n",
      "Requirement already satisfied: six in c:\\users\\saura\\appdata\\local\\programs\\python\\python311\\lib\\site-packages (from pynput) (1.16.0)\n",
      "Downloading pynput-1.8.1-py2.py3-none-any.whl (91 kB)\n",
      "Installing collected packages: pynput\n",
      "Successfully installed pynput-1.8.1\n",
      "Note: you may need to restart the kernel to use updated packages.\n"
     ]
    }
   ],
   "source": [
    "pip install pynput"
   ]
  },
  {
   "cell_type": "code",
   "execution_count": 4,
   "id": "380fa287-b58f-446d-8255-0aa20909e67f",
   "metadata": {},
   "outputs": [
    {
     "name": "stdout",
     "output_type": "stream",
     "text": [
      "'f'  is pressed\n",
      "'u'  is pressed\n",
      "'c'  is pressed\n",
      "'k'  is pressed\n",
      "Key.space  is pressed\n",
      "'s'  is pressed\n",
      "'a'  is pressed\n",
      "'n'  is pressed\n",
      "'a'  is pressed\n",
      "'t'  is pressed\n",
      "'h'  is pressed\n",
      "Key.space  is pressed\n",
      "'c'  is pressed\n",
      "'h'  is pressed\n",
      "'e'  is pressed\n",
      "'t'  is pressed\n",
      "'t'  is pressed\n",
      "'i'  is pressed\n",
      "Key.cmd  is pressed\n",
      "Key.shift  is pressed\n",
      "'S'  is pressed\n",
      "Key.esc  is pressed\n"
     ]
    }
   ],
   "source": [
    "from pynput.keyboard import Key,Listener \n",
    "def keypress(key): \n",
    "    print(key,\" is pressed\") \n",
    "def keyrelease(key): \n",
    "    if key==Key.esc:   #Key.esc 'K' is capital \n",
    "        return False \n",
    "with Listener(on_press=keypress,on_release=keyrelease) as listener: \n",
    "    listener.join()"
   ]
  }
 ],
 "metadata": {
  "kernelspec": {
   "display_name": "Python 3 (ipykernel)",
   "language": "python",
   "name": "python3"
  },
  "language_info": {
   "codemirror_mode": {
    "name": "ipython",
    "version": 3
   },
   "file_extension": ".py",
   "mimetype": "text/x-python",
   "name": "python",
   "nbconvert_exporter": "python",
   "pygments_lexer": "ipython3",
   "version": "3.11.5"
  }
 },
 "nbformat": 4,
 "nbformat_minor": 5
}
