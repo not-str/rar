{
 "cells": [
  {
   "cell_type": "code",
   "execution_count": null,
   "metadata": {},
   "outputs": [],
   "source": [
    "import nltk \n",
    "from sklearn.feature_extraction.text import TfidfVectorizer \n",
    "from sklearn.metrics.pairwise import cosine_similarity \n",
    "from nltk.tokenize import sent_tokenize \n",
    "from nltk.corpus import stopwords \n",
    "nltk.download('punkt') \n",
    "nltk.download('stopwords') \n",
    "def extractive_summary(text, num_sentences=3): \n",
    "    sentences = sent_tokenize(text) \n",
    "    stop_words = set(stopwords.words('english')) \n",
    "    cleaned_sentences = [' '.join([word for word in nltk.word_tokenize(s.lower()) if word not in stop_words and word.isalnum()]) for s in sentences] \n",
    "\n",
    "    tfidf_matrix = TfidfVectorizer().fit_transform(cleaned_sentences) \n",
    "    cosine_sim = cosine_similarity(tfidf_matrix, tfidf_matrix)  \n",
    "    scores = {i: sum(cosine_sim[i]) for i in range(len(sentences)) }\n",
    "   \n",
    "    return '  '.join([sentences[i] for i in sorted(scores, key=scores.get, reverse=True)[:num_sentences]]) \n",
    "\n",
    "text = \"Income tax is a tax charged on the annual income of an individual or business earned in a financial year. The Income Tax system in India is governed by The Income Tax Act, 1961, which lays out the rules and regulations for income tax calculation, assessment, and collection. All taxpayers are mandated to submit an Income Tax Return (ITR) every year by respective due dates as per the law to report their income and claim a tax refund if applicable. An income tax return can be filed online or offline on the Income Tax Department's official website or through verified third-party websites.\" \n",
    "summary = extractive_summary(text) \n",
    " \n",
    "print(summary) "
   ]
  }
 ],
 "metadata": {
  "language_info": {
   "name": "python"
  }
 },
 "nbformat": 4,
 "nbformat_minor": 2
}
