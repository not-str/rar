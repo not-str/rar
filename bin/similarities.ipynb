{
 "cells": [
  {
   "cell_type": "code",
   "execution_count": null,
   "metadata": {
    "vscode": {
     "languageId": "plaintext"
    }
   },
   "outputs": [],
   "source": [
    "import numpy as np \n",
    "from collections import Counter \n",
    " \n",
    "def jaccard_similarity(doc1,doc2): \n",
    "    set1=set(doc1.split()) \n",
    "    set2=set(doc2.split()) \n",
    "    intersection=len(set1.intersection(set2)) \n",
    "    union=len(set1.union(set2)) \n",
    "    return intersection/union \n",
    "\n",
    "def cosine_similarity(doc1,doc2): \n",
    "    words=list(set(doc1.split()).union(set(doc2.split()))) \n",
    "    #word vcetor for both doc \n",
    "    vec1=[doc1.split().count(word) for word in words] \n",
    "    vec2=[doc2.split().count(word) for word in words] \n",
    "    dot_product=np.dot(vec1,vec2) \n",
    "    magnitude1=np.linalg.norm(vec1) \n",
    "    magnitude2=np.linalg.norm(vec2) \n",
    "    return dot_product/(magnitude1*magnitude2)\n",
    "\n",
    "def manhattan_distance(doc1,doc2): \n",
    "    words=list(set(doc1.split()).union(set(doc2.split()))) \n",
    "    #word vcetor for both doc \n",
    "    vec1=[doc1.split().count(word) for word in words] \n",
    "    vec2=[doc2.split().count(word) for word in words] \n",
    "    return sum(abs(a-b) for a,b in zip(vec1,vec2)) \n",
    "\n",
    "def eucladian_distance(doc1,doc2): \n",
    "    words=list(set(doc1.split()).union(set(doc2.split()))) \n",
    "    #word vcetor for both doc \n",
    "    vec1=[doc1.split().count(word) for word in words] \n",
    "    vec2=[doc2.split().count(word) for word in words] \n",
    "    return np.linalg.norm(np.array(vec1)-np.array(vec2)) \n",
    "    \n",
    "doc1=\"I like to play football\" \n",
    "doc2=\"I like playing football\" \n",
    " \n",
    "jaccard=jaccard_similarity(doc1,doc2) \n",
    "print(\"jaccard_similarity=\",jaccard) \n",
    "cosine=cosine_similarity(doc1,doc2) \n",
    "print(\"cosine_similarity=\",cosine) \n",
    "manhattan=manhattan_distance(doc1,doc2) \n",
    "print(\"manhattan-ditance=\",manhattan) \n",
    "eucladian=eucladian_distance(doc1,doc2) \n",
    "print(\"eucladian_distance=\",eucladian) "
   ]
  }
 ],
 "metadata": {
  "language_info": {
   "name": "python"
  }
 },
 "nbformat": 4,
 "nbformat_minor": 2
}
