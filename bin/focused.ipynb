{
 "cells": [
  {
   "cell_type": "code",
   "execution_count": null,
   "metadata": {},
   "outputs": [],
   "source": [
    "import requests \n",
    "from bs4 import BeautifulSoup \n",
    "from urllib.parse import urljoin, urlparse \n",
    "\n",
    "def is_relevant_page(url, soup): \n",
    "  \n",
    "   if 'academics' in url.lower(): \n",
    "       return True \n",
    "   title = soup.title.string if soup.title else '' \n",
    "   if 'academics' in title.lower(): \n",
    "       return True \n",
    "   return False \n",
    "def crawl(seed_url, max_pages=100): \n",
    "   visited_urls = set() \n",
    "   urls_to_visit = [seed_url] \n",
    "   while urls_to_visit and len(visited_urls) < max_pages: \n",
    " \n",
    "       url = urls_to_visit.pop(0) \n",
    "       if url in visited_urls: \n",
    "           continue  \n",
    "       print(f'Crawling: {url}') \n",
    "       try: \n",
    "           response = requests.get(url) \n",
    "           response.raise_for_status() \n",
    "           visited_urls.add(url) \n",
    "           # Parse HTML content \n",
    "           soup = BeautifulSoup(response.text, 'html.parser') \n",
    "           if is_relevant_page(url, soup): \n",
    "               print(f'Found relevant page: {url}') \n",
    "               # Find and process all links on the page \n",
    "               for link in soup.find_all('a', href=True): \n",
    "                   full_url = urljoin(url, link['href'])  \n",
    "                   parsed_url = urlparse(full_url) \n",
    "                   if parsed_url.fragment: \n",
    "                       continue \n",
    "                   if full_url not in visited_urls: \n",
    "                      urls_to_visit.append(full_url)  \n",
    "           else: \n",
    "               print(f'Skipping irrelevant page: {url}') \n",
    "       except requests.RequestException as e: \n",
    "           print(f'Error fetching {url}: {e}') \n",
    "crawl('https://siesascs.edu.in/academics/') \n",
    "crawl('https://siesascs.edu.in/') \n",
    " \n",
    "crawl('https://siesascs.edu.in/results/')"
   ]
  }
 ],
 "metadata": {
  "language_info": {
   "name": "python"
  }
 },
 "nbformat": 4,
 "nbformat_minor": 2
}
