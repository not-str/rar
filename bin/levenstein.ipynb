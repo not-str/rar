{
 "cells": [
  {
   "cell_type": "code",
   "execution_count": null,
   "metadata": {
    "vscode": {
     "languageId": "plaintext"
    }
   },
   "outputs": [],
   "source": [
    "def leven(x,y): \n",
    "    n=len(x) \n",
    "    m=len(y) \n",
    "    A=[[i+j for j in range(m+1)] for i in range(n+1)] \n",
    "    for i in range(n): \n",
    "        for j in range(m): \n",
    "            A[i+1][j+1]=min(A[i][j+1]+1,#insert \n",
    "                         A[i+1][j]+1,#delete \n",
    "                           A[i][j]+int(x[i]!=y[j])) # replace \n",
    "    return A[n][m]  \n",
    "print(leven(\"brap\",\"rap\")) \n",
    "print(leven(\"trail\",\"try\")) "
   ]
  }
 ],
 "metadata": {
  "language_info": {
   "name": "python"
  }
 },
 "nbformat": 4,
 "nbformat_minor": 2
}
