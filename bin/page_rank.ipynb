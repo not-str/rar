{
 "cells": [
  {
   "cell_type": "code",
   "execution_count": null,
   "metadata": {
    "vscode": {
     "languageId": "plaintext"
    }
   },
   "outputs": [],
   "source": [
    "def page_rank(graph, damping_factor=0.85, max_iterations=100, tolerance=1e-6): \n",
    "    num_pages = len(graph) \n",
    "    initial_page_rank = 1.0 / num_pages \n",
    "    # Initialize page ranks \n",
    "    page_ranks = {page: initial_page_rank for page in graph} \n",
    "     \n",
    "    for _ in range(max_iterations): \n",
    "        new_page_ranks = {} \n",
    "        for page in graph: \n",
    "            new_rank = (1 - damping_factor) / num_pages \n",
    "            for link in graph: \n",
    "                if page in graph[link]: \n",
    "                    new_rank += damping_factor * (page_ranks[link] / len(graph[link])) \n",
    "            new_page_ranks[page] = new_rank \n",
    "         \n",
    "        # Check convergence \n",
    "        convergence = all(abs(new_page_ranks[page] - page_ranks[page]) < tolerance for page in graph) \n",
    "         \n",
    "        # Update page ranks \n",
    "        page_ranks = new_page_ranks \n",
    "         \n",
    "        if convergence: \n",
    "            break \n",
    "     \n",
    "    return page_ranks \n",
    " \n",
    " \n",
    "if __name__ == \"__main__\": \n",
    "    # Example graph representation as an adjacency list \n",
    "    example_graph = { \n",
    "        'A': ['B', 'C'], \n",
    "        'B': ['A'], \n",
    "        'C': ['A', 'B'], \n",
    "        'D': ['B'] \n",
    "    } \n",
    "     \n",
    " \n",
    "    # Calculate pageranks \n",
    "    result = page_rank(example_graph) \n",
    "     \n",
    "    # Print pagerank results \n",
    "    for page, rank in sorted(result.items(), key=lambda x: x[1], reverse=True): \n",
    "        print(f\"Page: {page} - PageRank: {rank:4f}\")\n"
   ]
  },
  {
   "cell_type": "code",
   "execution_count": null,
   "metadata": {
    "vscode": {
     "languageId": "plaintext"
    }
   },
   "outputs": [],
   "source": [
    "import networkx as nx \n",
    "import pylab as plt \n",
    "G=nx.DiGraph() \n",
    "G.add_weighted_edges_from([('A','B',1),('A','C',1),('C','A',1),('B','C',1)]) \n",
    "pprl=nx.pagerank(G) \n",
    "print(\"Page Rank:\",pprl) \n",
    "nx.draw_networkx(G,with_labels=True) \n",
    "plt.draw() "
   ]
  },
  {
   "cell_type": "code",
   "execution_count": null,
   "metadata": {
    "vscode": {
     "languageId": "plaintext"
    }
   },
   "outputs": [],
   "source": [
    "import networkx as nx \n",
    "import pylab as plt \n",
    "G=nx.DiGraph() \n",
    "[G.add_node(k) for k in [\"A\",\"B\",\"C\",\"D\",\"E\",\"F\",\"G\"]] \n",
    "G.add_edges_from([('G','A'),('A','G'),('B','A'),('C','A'),('A','C'),('A','D'),('D','B'),('D','F'),('F','A'),('E','A')]) \n",
    "pprl=nx.pagerank(G) \n",
    "print(\"Page Rank:\",pprl) \n",
    "spr=nx.spiral_layout(G) \n",
    "nx.draw_networkx(G,spr,with_labels=True,node_color=\"#f86e00\") \n",
    "plt.show()"
   ]
  }
 ],
 "metadata": {
  "language_info": {
   "name": "python"
  }
 },
 "nbformat": 4,
 "nbformat_minor": 2
}
