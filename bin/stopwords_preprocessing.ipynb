{
 "cells": [
  {
   "cell_type": "code",
   "execution_count": null,
   "metadata": {},
   "outputs": [],
   "source": [
    "import nltk \n",
    "nltk.download('stopwords') \n",
    "from nltk.corpus import stopwords \n",
    "set(stopwords.words('english'))"
   ]
  },
  {
   "cell_type": "code",
   "execution_count": null,
   "metadata": {},
   "outputs": [],
   "source": [
    "from nltk.corpus import stopwords \n",
    "from nltk.tokenize import word_tokenize \n",
    " \n",
    "example_sent=\"This is a sample sentence,sowing off the stopwords filter. this comes in information retrieval\" \n",
    "stop_words=set(stopwords.words('english')) \n",
    "nltk.download('punkt_tab')\n",
    "word_tokens=word_tokenize(example_sent) \n",
    "filtered_sentence=[w for w in word_tokens if not w in stop_words] \n",
    "filtered_sentence=[] \n",
    " \n",
    "for w in word_tokens: \n",
    "    if w not in stop_words: \n",
    "        filtered_sentence.append(w) \n",
    "print(word_tokens) \n",
    "print(filtered_sentence)"
   ]
  }
 ],
 "metadata": {
  "language_info": {
   "name": "python"
  }
 },
 "nbformat": 4,
 "nbformat_minor": 2
}
