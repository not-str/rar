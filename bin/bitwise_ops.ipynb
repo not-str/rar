{
 "cells": [
  {
   "cell_type": "code",
   "execution_count": null,
   "metadata": {
    "vscode": {
     "languageId": "plaintext"
    }
   },
   "outputs": [],
   "source": [
    "def bitwise_operations(a,b): \n",
    "    #and \n",
    "    res=a&b \n",
    "    print(f\"AND operation between {a} and {b} :{res}\") \n",
    "    #OR \n",
    "    res=a|b \n",
    "    print(f\"OR operation between {a} and {b} :{res}\") \n",
    "    #XOR \n",
    "    res=a^b \n",
    "    print(f\"XOR operation between {a} and {b} :{res}\") \n",
    "    # NOT a \n",
    "    res=~a \n",
    "    print(f\"NOT of {a} :{res}\") \n",
    "    # NOT b \n",
    "    res=~b \n",
    "    print(f\"NOT of {b} :{res}\") \n",
    "    #leftshift a \n",
    "    res= a<<1 \n",
    "    print(f\"Leftshift of {a} by 1 :{res}\") \n",
    "    #leftshift b \n",
    "    res= b<<1 \n",
    "    print(f\"Leftshift of {b} by 1 :{res}\") \n",
    "    #rightshift a \n",
    "    res= a>>1 \n",
    "    print(f\"Rightshift of {a} by 1 :{res}\") \n",
    "    #rightshift b \n",
    "    res= b>>1 \n",
    "    print(f\"Rightshift of {b} by 1 :{res}\") \n",
    "    \n",
    "a=int(input(\"Enter value of a:\")) \n",
    "b=int(input(\"Enter value of b:\")) \n",
    "bitwise_operations(a,b)"
   ]
  }
 ],
 "metadata": {
  "language_info": {
   "name": "python"
  }
 },
 "nbformat": 4,
 "nbformat_minor": 2
}
