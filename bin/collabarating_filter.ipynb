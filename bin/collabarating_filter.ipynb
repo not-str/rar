{
 "cells": [
  {
   "cell_type": "code",
   "execution_count": null,
   "metadata": {},
   "outputs": [],
   "source": [
    "import pandas as pd \n",
    "\n",
    "data={'user':['Alice','Bob','Alice','Bob','Alice','Charlie'], \n",
    "      'item':['Item1','Item1','Item2','Item2','Item3','Item1'], \n",
    "      'rating':[5,4,5,3,4,5]} \n",
    "df=pd.DataFrame(data) \n",
    "df \n",
    "\n",
    "user_item_matrix=df.pivot_table(index='user',columns='item',values='rating',fill_value=0) \n",
    "print(user_item_matrix) \n",
    " \n",
    "from sklearn.metrics.pairwise import cosine_similarity \n",
    "similarity=cosine_similarity(user_item_matrix) \n",
    "print(similarity) "
   ]
  }
 ],
 "metadata": {
  "language_info": {
   "name": "python"
  }
 },
 "nbformat": 4,
 "nbformat_minor": 2
}
