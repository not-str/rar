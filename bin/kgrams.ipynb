{
 "cells": [
  {
   "cell_type": "code",
   "execution_count": null,
   "metadata": {
    "vscode": {
     "languageId": "plaintext"
    }
   },
   "outputs": [],
   "source": [
    "def generate_kgrams(term,k): \n",
    "    kgrams=set() \n",
    "    padded_term=f\"${term}$\" \n",
    "    for i in range(len(padded_term)-k+1): \n",
    "        kgrams.add(padded_term[i:i+k]) \n",
    "    return kgrams \n",
    "term=\"siescollege\" \n",
    "k=3 \n",
    "print(generate_kgrams(term,k))"
   ]
  }
 ],
 "metadata": {
  "language_info": {
   "name": "python"
  }
 },
 "nbformat": 4,
 "nbformat_minor": 2
}
