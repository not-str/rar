{
 "cells": [
  {
   "cell_type": "code",
   "execution_count": null,
   "metadata": {
    "vscode": {
     "languageId": "plaintext"
    }
   },
   "outputs": [],
   "source": [
    "from collections import defaultdict \n",
    "import re \n",
    "documents={ \n",
    "    1:\"The quick brown fox jumps over the lazy dog\", \n",
    "    2:\"A brown fox is fast and the dog is lazy\", \n",
    "    3:\"london Bridge is falling down\" \n",
    "     \n",
    "}  \n",
    "def preprocess(text): \n",
    "    text=text.lower() \n",
    "    tokens=re.findall(r'\\w+',text) \n",
    "    return set(tokens)\n",
    " \n",
    "\n",
    "inverted_index=defaultdict(set) \n",
    " \n",
    "for doc_id,doc_text in documents.items(): \n",
    "    terms=preprocess(doc_text) \n",
    "    for term in terms: \n",
    "        inverted_index[term].add(doc_id) \n",
    "\n",
    "def query(query_text): \n",
    "    terms=preprocess(query_text) \n",
    "    results=set(doc_id for term in terms for doc_id in inverted_index.get(term,[])) \n",
    "    return results \n",
    " \n",
    " \n",
    "query_result=query(\"brown fox\") \n",
    "print(\"Documents containing 'brown' and 'fox':\",query_result)"
   ]
  },
  {
   "cell_type": "code",
   "execution_count": null,
   "metadata": {
    "vscode": {
     "languageId": "plaintext"
    }
   },
   "outputs": [],
   "source": [
    "from collections import defaultdict \n",
    "def create_inverted_index(docs): \n",
    "    inverted_index=defaultdict(list) \n",
    "    for doc_id,text in enumerate(docs): \n",
    "        words=text.split() \n",
    "        for word in set(words): #using set to avoid duplicate entries for the same word in one document \n",
    "            inverted_index[word].append(doc_id) \n",
    "    return inverted_index \n",
    "docs=[\"this is a sample document\",\"this is the second document\",\"this is third document\"] \n",
    "index=create_inverted_index(docs) \n",
    "print(dict(index)) "
   ]
  }
 ],
 "metadata": {
  "language_info": {
   "name": "python"
  }
 },
 "nbformat": 4,
 "nbformat_minor": 2
}
