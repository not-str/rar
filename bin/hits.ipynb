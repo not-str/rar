{
 "cells": [
  {
   "cell_type": "code",
   "execution_count": null,
   "metadata": {
    "vscode": {
     "languageId": "plaintext"
    }
   },
   "outputs": [],
   "source": [
    "import networkx as nx \n",
    "G=nx.DiGraph()    \n",
    "G.add_edges_from([(1,2),(1,3),(2,4),(3,4),(4,5)])  \n",
    "authority_scores,hub_scores=nx.hits(G) \n",
    "print(\"Authority Scores=\",authority_scores) \n",
    "print(\"Hub scores\",hub_scores)"
   ]
  }
 ],
 "metadata": {
  "language_info": {
   "name": "python"
  }
 },
 "nbformat": 4,
 "nbformat_minor": 2
}
