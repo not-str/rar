{
 "cells": [
  {
   "cell_type": "code",
   "execution_count": null,
   "metadata": {
    "vscode": {
     "languageId": "plaintext"
    }
   },
   "outputs": [],
   "source": [
    "import pandas as pd \n",
    "from sklearn.feature_extraction.text import CountVectorizer \n",
    "print(\"=====Boolean Retrieval Model using Bitwise Operaions on Term Document incidence matrix==\\n\") \n",
    "with open('corpus.txt','r') as file: \n",
    "    corpus=file.readlines() \n",
    "corpus=[doc.strip() for doc in corpus] \n",
    "print('Corpus:',corpus) \n",
    "vectorizer=CountVectorizer() #object creation \n",
    "#transforming the corpus \n",
    "x=vectorizer.fit_transform(corpus) \n",
    "df=pd.DataFrame(x.toarray(),columns=vectorizer.get_feature_names_out()) \n",
    "print('\\nData Frame:\\n',df) \n",
    "print('query processing on term document incidence matrix:\\n') \n",
    "#AND operator \n",
    "print(\"1.Find all document ids for query 'this AND 'first' \") \n",
    "and_res=df[(df['this']==1)&(df['first']==1)] \n",
    "print(f\"Document ids where 'this' AND 'first' are present:{and_res.index.tolist()}\") \n",
    "#OR operator \n",
    "print(\"2.Find all document ids for query 'this' OR 'first' \") \n",
    "or_res=df[(df['this']==1)|(df['first']==1)] \n",
    "print(f\"Document ids where 'this' OR 'first' are present:{or_res.index.tolist()}\") \n",
    "#NOT operator \n",
    "print(\"3.Find all document ids for query NOT'and' \") \n",
    "not_res=df[(df['and']!=1)] \n",
    "print(f\"Document ids where NOT 'and' are present:{not_res.index.tolist()}\") "
   ]
  }
 ],
 "metadata": {
  "language_info": {
   "name": "python"
  }
 },
 "nbformat": 4,
 "nbformat_minor": 2
}
