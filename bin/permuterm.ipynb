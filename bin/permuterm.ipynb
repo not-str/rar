{
 "cells": [
  {
   "cell_type": "code",
   "execution_count": null,
   "metadata": {
    "vscode": {
     "languageId": "plaintext"
    }
   },
   "outputs": [],
   "source": [
    "import collections \n",
    "def create_permuted_index(documents): \n",
    "    permuted_index=collections.defaultdict(list) \n",
    "    for doc_id,text in enumerate(documents): \n",
    "        words=text.split() \n",
    "        for word in words: \n",
    "            for i in range(len(word)): \n",
    "                permuted_word=word[i:]+'$'+word[:i] \n",
    "                permuted_index[permuted_word].append(doc_id) \n",
    "    return permuted_index \n",
    "documents= [\"Information Retrival\",\"wildcard queries\",\"permuted index example\"] \n",
    "permuted_index=create_permuted_index(documents) \n",
    "print(permuted_index) "
   ]
  }
 ],
 "metadata": {
  "language_info": {
   "name": "python"
  }
 },
 "nbformat": 4,
 "nbformat_minor": 2
}
