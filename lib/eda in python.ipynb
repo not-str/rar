{
 "cells": [
  {
   "cell_type": "code",
   "execution_count": null,
   "id": "25c3fcaf",
   "metadata": {},
   "outputs": [],
   "source": [
    "#prac4\n",
    "import pandas as pd\n",
    "titanic=pd.read_csv(\"train.csv\")\n",
    "titanic"
   ]
  },
  {
   "cell_type": "code",
   "execution_count": null,
   "id": "d4086130",
   "metadata": {},
   "outputs": [],
   "source": [
    "titanic.info()"
   ]
  },
  {
   "cell_type": "code",
   "execution_count": null,
   "id": "94f7307e",
   "metadata": {},
   "outputs": [],
   "source": [
    "titanic.describe()"
   ]
  },
  {
   "cell_type": "code",
   "execution_count": null,
   "id": "07726281",
   "metadata": {},
   "outputs": [],
   "source": [
    "titanic.isnull().sum() "
   ]
  },
  {
   "cell_type": "code",
   "execution_count": null,
   "id": "66a1746d",
   "metadata": {},
   "outputs": [],
   "source": [
    "titanic_cleaned=titanic.drop(['PassengerId','Name','Ticket','Fare','Cabin'],axis=1)\n",
    "titanic_cleaned"
   ]
  },
  {
   "cell_type": "code",
   "execution_count": null,
   "id": "bb5f0dfa",
   "metadata": {
    "scrolled": true
   },
   "outputs": [],
   "source": [
    "import seaborn as sns \n",
    "import matplotlib.pyplot as plt\n",
    "%matplotlib inline\n",
    "sns.catplot(x=\"Sex\",kind=\"count\",hue=\"Survived\",data=titanic_cleaned) "
   ]
  },
  {
   "cell_type": "code",
   "execution_count": null,
   "id": "3a993210",
   "metadata": {},
   "outputs": [],
   "source": [
    "titanic_cleaned.groupby(['Sex','Survived'])['Survived'].count()"
   ]
  },
  {
   "cell_type": "code",
   "execution_count": null,
   "id": "ab8fba17",
   "metadata": {},
   "outputs": [],
   "source": [
    "group1=titanic_cleaned.groupby(['Sex','Survived'])\n",
    "gender_survived=group1.size().unstack()\n",
    "sns.heatmap(gender_survived,annot=True,fmt=\"d\")"
   ]
  },
  {
   "cell_type": "code",
   "execution_count": null,
   "id": "26f30483",
   "metadata": {},
   "outputs": [],
   "source": [
    "group2=titanic_cleaned.groupby(['Pclass','Survived'])\n",
    "Pclass_survived=group2.size().unstack()\n",
    "sns.heatmap(Pclass_survived,annot=True,fmt=\"d\")\n"
   ]
  },
  {
   "cell_type": "code",
   "execution_count": 13,
   "id": "f084ff42",
   "metadata": {},
   "outputs": [],
   "source": [
    "def impute(cols):\n",
    "    age=cols[0]\n",
    "    pclass=cols[1]\n",
    "    if pd.isnull(age):\n",
    "        if pclass==1:\n",
    "            return 38\n",
    "        elif pclass==2:\n",
    "            return 29\n",
    "        else:\n",
    "            return 24\n",
    "    else:\n",
    "        return age"
   ]
  },
  {
   "cell_type": "code",
   "execution_count": 14,
   "id": "4ba74592",
   "metadata": {},
   "outputs": [],
   "source": [
    "titanic_cleaned['Age']=titanic_cleaned[['Age','Pclass']].apply(impute,axis=1)"
   ]
  },
  {
   "cell_type": "code",
   "execution_count": null,
   "id": "d38ddff5",
   "metadata": {},
   "outputs": [],
   "source": [
    "titanic_cleaned.isnull().sum()"
   ]
  },
  {
   "cell_type": "code",
   "execution_count": null,
   "id": "531eca6f",
   "metadata": {},
   "outputs": [],
   "source": [
    "sns.heatmap(titanic_cleaned.corr(method='pearson'),annot=True,vmax=1)"
   ]
  },
  {
   "cell_type": "code",
   "execution_count": null,
   "id": "195288d8",
   "metadata": {},
   "outputs": [],
   "source": []
  }
 ],
 "metadata": {
  "kernelspec": {
   "display_name": "Python 3 (ipykernel)",
   "language": "python",
   "name": "python3"
  },
  "language_info": {
   "codemirror_mode": {
    "name": "ipython",
    "version": 3
   },
   "file_extension": ".py",
   "mimetype": "text/x-python",
   "name": "python",
   "nbconvert_exporter": "python",
   "pygments_lexer": "ipython3",
   "version": "3.11.5"
  }
 },
 "nbformat": 4,
 "nbformat_minor": 5
}
