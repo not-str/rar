{
 "cells": [
  {
   "cell_type": "code",
   "execution_count": null,
   "id": "63dc1eec-923b-4f58-9382-065cdaa3010a",
   "metadata": {},
   "outputs": [],
   "source": [
    "from wordcloud import WordCloud,STOPWORDS \n",
    "import matplotlib.pyplot as plt \n",
    "import wikipedia as wp \n",
    "result=wp.page(\"Data Science\") \n",
    "final_result=result.content \n",
    "print(final_result) \n",
    "def plot_wordcloud(wc): \n",
    "    plt.axis(\"off\") \n",
    "    plt.figure(figsize=(10,10)) \n",
    "    plt.imshow(wc) \n",
    "    plt.show() \n",
    "wc=WordCloud(width=500,height=500,background_color=\"cyan\",random_state=10,stopwords=STOPWORDS).generate(final_result)\n",
    "wc.to_file(\"ds.png\") \n",
    "plot_wordcloud(wc)"
   ]
  },
  {
   "cell_type": "code",
   "execution_count": null,
   "id": "bdf7da4a-4fe3-46c9-bb43-f224fddbf7ca",
   "metadata": {},
   "outputs": [],
   "source": []
  }
 ],
 "metadata": {
  "kernelspec": {
   "display_name": "Python 3 (ipykernel)",
   "language": "python",
   "name": "python3"
  },
  "language_info": {
   "codemirror_mode": {
    "name": "ipython",
    "version": 3
   },
   "file_extension": ".py",
   "mimetype": "text/x-python",
   "name": "python",
   "nbconvert_exporter": "python",
   "pygments_lexer": "ipython3",
   "version": "3.11.5"
  }
 },
 "nbformat": 4,
 "nbformat_minor": 5
}
