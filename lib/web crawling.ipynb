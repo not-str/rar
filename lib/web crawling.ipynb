{
 "cells": [
  {
   "cell_type": "code",
   "execution_count": null,
   "id": "12fdefc2-e598-489c-8cc0-2f57e55b4ab2",
   "metadata": {},
   "outputs": [],
   "source": [
    "import pandas as pd\n",
    "from bs4 import BeautifulSoup\n",
    "from urllib.request import urlopen\n",
    "\n",
    "url = \"https://en.wikipedia.org/wiki/List_of_Asian_countries_by_area\"\n",
    "page = urlopen(url)\n",
    "html_page = page.read().decode(\"utf-8\")\n",
    "\n",
    "soup = BeautifulSoup(html_page, \"html.parser\")\n",
    "table = soup.find(\"table\")\n",
    "\n",
    "srno = []\n",
    "country = []\n",
    "area = []\n",
    "\n",
    "rows = table.find(\"tbody\").find_all(\"tr\")\n",
    "for row in rows:\n",
    "    cells = row.find_all(\"td\")\n",
    "    if cells:\n",
    "        srno.append(cells[0].get_text().strip(\"\\n\"))\n",
    "        country.append(cells[1].get_text().strip(\"\\xa0\").strip(\"\\n\"))\n",
    "        area.append(cells[3].get_text().strip(\"\\n\").replace(\",\", \"\"))\n",
    "\n",
    "df = pd.DataFrame()\n",
    "df[\"ID\"] = srno\n",
    "df[\"Country\"] = country\n",
    "df[\"Area\"] = area\n",
    "df.head(10)\n"
   ]
  },
  {
   "cell_type": "code",
   "execution_count": null,
   "id": "e075d040-b62a-4503-ad71-af46d231ebed",
   "metadata": {},
   "outputs": [],
   "source": []
  }
 ],
 "metadata": {
  "kernelspec": {
   "display_name": "Python 3 (ipykernel)",
   "language": "python",
   "name": "python3"
  },
  "language_info": {
   "codemirror_mode": {
    "name": "ipython",
    "version": 3
   },
   "file_extension": ".py",
   "mimetype": "text/x-python",
   "name": "python",
   "nbconvert_exporter": "python",
   "pygments_lexer": "ipython3",
   "version": "3.11.5"
  }
 },
 "nbformat": 4,
 "nbformat_minor": 5
}
