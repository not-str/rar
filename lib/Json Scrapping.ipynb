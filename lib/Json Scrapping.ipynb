{
 "cells": [
  {
   "cell_type": "code",
   "execution_count": null,
   "id": "085fae14-9858-4ed2-8839-643b06297aac",
   "metadata": {},
   "outputs": [],
   "source": [
    "import pandas as pd \n",
    "import json \n",
    "from urllib.request import urlopen \n",
    "url=\"https://jsonplaceholder.typicode.com/users\" \n",
    "page=urlopen(url) \n",
    "data=json.loads(page.read()) \n",
    "ID=[] \n",
    "Username=[] \n",
    "Email=[] \n",
    "for item in data: \n",
    "    if \"id\" in item.keys(): \n",
    "        ID.append(item['id']) \n",
    "    else: \n",
    "        ID.append(\"NA\") \n",
    "    if \"username\" in item.keys(): \n",
    "        Username.append(item['username']) \n",
    "    else: \n",
    "        Username.append(item[\"NA\"]) \n",
    "    if \"email\" in item.keys(): \n",
    "        Email.append(item['email']) \n",
    "    else: \n",
    "        Email.append(item[\"NA\"])\n",
    "df=pd.DataFrame() \n",
    "df[\"ID\"]=ID \n",
    "df[\"Username\"]=Username \n",
    "df[\"Email\"]=Email \n",
    "df.head(10)\n"
   ]
  },
  {
   "cell_type": "code",
   "execution_count": null,
   "id": "d95915fe-12b6-4195-a4d6-9b4bad2850f2",
   "metadata": {},
   "outputs": [],
   "source": []
  }
 ],
 "metadata": {
  "kernelspec": {
   "display_name": "Python 3 (ipykernel)",
   "language": "python",
   "name": "python3"
  },
  "language_info": {
   "codemirror_mode": {
    "name": "ipython",
    "version": 3
   },
   "file_extension": ".py",
   "mimetype": "text/x-python",
   "name": "python",
   "nbconvert_exporter": "python",
   "pygments_lexer": "ipython3",
   "version": "3.11.5"
  }
 },
 "nbformat": 4,
 "nbformat_minor": 5
}
