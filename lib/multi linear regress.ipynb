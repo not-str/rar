{
 "cells": [
  {
   "cell_type": "code",
   "execution_count": null,
   "metadata": {},
   "outputs": [],
   "source": [
    "import pandas as pd \n",
    "import sklearn \n",
    "import matplotlib.pyplot as plt \n",
    "boston=pd.read_csv(\"Boston.csv\") \n",
    "boston.head(5) \n",
    "boston=boston.drop(columns='Unnamed: 0') \n",
    "boston.info()"
   ]
  },
  {
   "cell_type": "code",
   "execution_count": null,
   "metadata": {},
   "outputs": [],
   "source": [
    "boston_x=pd.DataFrame(boston.iloc[:,:13])\n",
    "boston_y=pd.DataFrame (boston.iloc[:,-1])\n",
    "from sklearn.model_selection import train_test_split \n",
    "X_train, X_test, Y_train, Y_test=train_test_split(boston_x, boston_y, test_size=0.3)#30 perecentage for t \n",
    "print(f\"X_train shape {X_train.shape}\") \n",
    "print(f\"Y_train shape {Y_train.shape}\") \n",
    "print(f\"x_test shape {X_test.shape}\") \n",
    "print(f\"Y_test shape {Y_test.shape}\") "
   ]
  },
  {
   "cell_type": "code",
   "execution_count": null,
   "metadata": {},
   "outputs": [],
   "source": [
    "from sklearn.linear_model import LinearRegression \n",
    "reg_model=LinearRegression() \n",
    "reg_model.fit(X_train, Y_train) \n",
    "Y_pred_raw=reg_model.predict(X_test) \n",
    "Y_pred_df=pd.DataFrame (Y_pred_raw,columns=['predicted']) \n",
    "#Y test contain actual cost value \n",
    "Y_pred_df.head() "
   ]
  },
  {
   "cell_type": "code",
   "execution_count": null,
   "metadata": {},
   "outputs": [],
   "source": [
    "plt.scatter(Y_test, Y_pred_raw,c=\"green\") \n",
    "plt.xlabel(\"Actual price\") \n",
    "plt.ylabel(\"predicted price\") \n",
    "plt.title(\"actual vs predicted price\")"
   ]
  }
 ],
 "metadata": {
  "language_info": {
   "name": "python"
  }
 },
 "nbformat": 4,
 "nbformat_minor": 2
}
